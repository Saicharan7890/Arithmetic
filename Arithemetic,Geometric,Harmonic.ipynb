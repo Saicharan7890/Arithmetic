{
 "cells": [
  {
   "cell_type": "code",
   "execution_count": 3,
   "id": "072b4a09",
   "metadata": {},
   "outputs": [],
   "source": [
    "import statistics\n",
    "def num(*orgs):\n",
    "    gm =1 \n",
    "    for i in orgs:\n",
    "        j = input(\"What do u want to calculate : Arithmetic, Geometric, harmonic : \")\n",
    "        break\n",
    "    if j == 'Arithmetic': \n",
    "        print('Arithmetic means =',sum(orgs)/(len(orgs)))\n",
    "        \n",
    "    elif j =='Geometric':\n",
    "        for i in orgs:\n",
    "            gm=gm*i**(1/len(orgs))\n",
    "        print('Geometric mean =',gm)\n",
    "    elif j == 'Harmonic':\n",
    "            print('harmonic mean =',statistics.harmonic_mean(orgs))\n",
    "    else:\n",
    "        print(\"Invalid input\")\n",
    "        "
   ]
  },
  {
   "cell_type": "code",
   "execution_count": 4,
   "id": "7f9feb59",
   "metadata": {},
   "outputs": [
    {
     "name": "stdout",
     "output_type": "stream",
     "text": [
      "What do u want to calculate : Arithmetic, Geometric, harmonic : Harmonic\n",
      "harmonic mean = 2.4\n"
     ]
    }
   ],
   "source": [
    "num(2,3)"
   ]
  },
  {
   "cell_type": "code",
   "execution_count": null,
   "id": "496254c3",
   "metadata": {},
   "outputs": [],
   "source": []
  }
 ],
 "metadata": {
  "kernelspec": {
   "display_name": "Python 3 (ipykernel)",
   "language": "python",
   "name": "python3"
  },
  "language_info": {
   "codemirror_mode": {
    "name": "ipython",
    "version": 3
   },
   "file_extension": ".py",
   "mimetype": "text/x-python",
   "name": "python",
   "nbconvert_exporter": "python",
   "pygments_lexer": "ipython3",
   "version": "3.9.13"
  }
 },
 "nbformat": 4,
 "nbformat_minor": 5
}
